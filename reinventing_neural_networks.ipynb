{
 "cells": [
  {
   "cell_type": "code",
   "execution_count": 27,
   "metadata": {},
   "outputs": [],
   "source": [
    "# Imports and boilerplate to make graphs look better\n",
    "%matplotlib inline\n",
    "import matplotlib.pyplot as plt\n",
    "import numpy as np\n",
    "import scipy\n",
    "import wave\n",
    "from IPython.display import Audio\n",
    "\n",
    "def setup_graph(title='', x_label='', y_label='', fig_size=None):\n",
    "    fig = plt.figure()\n",
    "    if fig_size != None:\n",
    "        fig.set_size_inches(fig_size[0], fig_size[1])\n",
    "    ax = fig.add_subplot(111)\n",
    "    ax.set_title(title)\n",
    "    ax.set_xlabel(x_label)\n",
    "    ax.set_ylabel(y_label)"
   ]
  },
  {
   "cell_type": "markdown",
   "metadata": {},
   "source": [
    "# Reinventing neural networks\n",
    "\n",
    "(Intentionally reinventing the wheel)\n",
    "\n",
    "I wanted to try to derive the ideas of machine learning for myself. I do have some knowledge (so it's not completely independent of course), but I want to try to derive a lot of the ideas myself.\n",
    "\n",
    "The first sample problem is to write a machine learning algorithm to learn the xor function.\n",
    "\n",
    "So here's the xor logic table:\n",
    "\n",
    "| x0 | x1 | y |\n",
    "|----|----|---|\n",
    "| 0  | 0  | 0 |\n",
    "| 0  | 1  | 1 |\n",
    "| 1  | 0  | 1 |\n",
    "| 1  | 1  | 0 |\n",
    "\n",
    "So we have a 2 input function that returns 1 value - something like this:\n",
    "\n",
    "<img src=\"images/xor_network1.png\"  style=\"width: 50%; height: 50%\" />\n",
    "\n",
    "My initial thought is that we can convolute through some linear model, and adjust coefficients to get the right answer.\n",
    "\n",
    "So the equation would look something like this:\n",
    "\n",
    "$W0*x0 + W1*x1 = y$\n",
    "\n",
    "You could put this into matrix form and add a bias coefficient, in which case it would look like this:\n",
    "\n",
    "$Ax +b = y$ where A is the vector containing the 2 weights, x is a free variable to hold the features - x0 and x1, and y is the vector of labels) - so something like this:\n",
    "\n",
    "<img src=\"images/xor_matrix_form1.png\" style=\"width: 50%; height: 50%\" />\n",
    "\n",
    "Before trying to write an algorithm to optimize the values of W0 and W1, let's first make sure this model is powerful enough to work for the xor function. After thinking for a minute, I was able to determine that the values W0 = 1 and W2 = -1 would be good values, since if we plug those weights into the equation, $W0*x0 + W1*x1 = y$, we get $1*x0 + -1*x1$, and that should come out to the values of y (or at least, the value should be > 0.5 for (0, 1) and (1, 0), and < 0.5 for (0, 0) and (1, 1) ). And it turns out, that works:\n",
    "* for x0=0 and x1=1: `1*0 + -1*0 = 0`\n",
    "* for x0=0 and x1=1: `1*0 + -1*1 = -1`\n",
    "* for x0=0 and x1=1: `1*1 + -1*0 = 1`\n",
    "* for x0=0 and x1=1: `1*0 + -1*0 = 0`\n",
    "\n",
    "Shoot - when I first ran the numbers in my head, I was thinking the 2nd equation came out to 1, not -1. And actually, graphing it out, xor would look like this:\n",
    "\n",
    "<img src=\"images/xor_graph.png\"  style=\"width: 400px; height: 400px;\" />\n",
    "\n",
    "And as you can clearly see, that is not linearly separable. That is why, when I tried a linear classifier, it didn't work:"
   ]
  },
  {
   "cell_type": "code",
   "execution_count": 2,
   "metadata": {},
   "outputs": [
    {
     "data": {
      "text/plain": [
       "[array([0]), array([0]), array([0]), array([0])]"
      ]
     },
     "execution_count": 2,
     "metadata": {},
     "output_type": "execute_result"
    }
   ],
   "source": [
    "# Note that I'm making 10x repetitions of the logic table.\n",
    "X = [[0, 0],\n",
    "     [0, 1],\n",
    "     [1, 0],\n",
    "     [1, 1]]*10\n",
    "y = [0, 1, 1, 0]*10\n",
    "\n",
    "from sklearn.linear_model import LogisticRegression\n",
    "clf = LogisticRegression()\n",
    "clf.fit(X, y)\n",
    "\n",
    "[clf.predict([sample]) for sample in [(0, 0), (0, 1), (1, 0), (1, 1)]]"
   ]
  },
  {
   "cell_type": "markdown",
   "metadata": {},
   "source": [
    "This is wrong - presumably because a linear model simply isn't powerful enough, whereas something like RandomForest is:"
   ]
  },
  {
   "cell_type": "code",
   "execution_count": 3,
   "metadata": {},
   "outputs": [
    {
     "data": {
      "text/plain": [
       "[array([0]), array([1]), array([1]), array([0])]"
      ]
     },
     "execution_count": 3,
     "metadata": {},
     "output_type": "execute_result"
    }
   ],
   "source": [
    "from sklearn import linear_model\n",
    "from sklearn.ensemble import RandomForestClassifier\n",
    "clf = RandomForestClassifier()\n",
    "clf.fit(X, y)\n",
    "\n",
    "[clf.predict([sample]) for sample in [(0, 0), (0, 1), (1, 0), (1, 1)]]"
   ]
  },
  {
   "cell_type": "markdown",
   "metadata": {},
   "source": [
    "So RandomForest clearly works, but linear models do not. So we need to add some power to our model. How can we change it to be more powerful? Some ideas that come to mind:\n",
    "\n",
    "* Move from a linear to a polynomial model.\n",
    "* Add another layer to the network.\n",
    "\n",
    "Would these work? Is it possible that adding layers is similar in function to adding polynomials?\n",
    "\n",
    "Let's go with adding a layer...\n",
    "\n",
    "So the very simplest layer I could think of would be this:\n",
    "\n",
    "<img src=\"images/xor_network2.png\"  style=\"width: 50%; height: 50%;\" />\n",
    "(note: weights should be w0, w1, w2, and w3)\n",
    "\n",
    "But I know that typically, when I've seen pictures of neural networks, the inputs from one layer go to each of the nodes in the next layer - more like this:\n",
    "\n",
    "<img src=\"images/xor_network3.png\"  style=\"width: 50%; height: 50%;\" />\n",
    "(note: weights should be w0, w1, w2, and w3)\n",
    "\n",
    "I think the reason for this is that, in the prior network (without the cross in the middle), the 2 layers of weights are still only being added to the same input, which is really functionally the same as just having 1 layer. So I'm going to test out the network with the cross.\n",
    "\n",
    "So now we have 4 weights to play with. Let's see if I could imagine a solution where the weights are adjusted so that xor works... on second thought, that sounds like a good job for a program - let's do it that way.\n",
    "\n",
    "### Finding weights programmatically\n",
    "\n",
    "A few initial thoughts on writing a program to learn:\n",
    "* The inputs for the second layer are not the inputs, but the outputs of the previous layer.\n",
    "* We probably can't just keep 4 variables (one for each weight we are trying to tune), because we might optimize for the first sample, and then reoptimize for the second, and third, and so forth. One solution would be to generate a number of hypotheses for the weights, and keep them all in memory, and then find the one that minimizes error for all samples. Later, we can try to actually tweak the weights.\n",
    "\n",
    "So let's try to write this. First, some helper functions..."
   ]
  },
  {
   "cell_type": "code",
   "execution_count": 4,
   "metadata": {},
   "outputs": [],
   "source": [
    "import random\n",
    "\n",
    "def rand_weight(weight_min, weight_max):\n",
    "    \"\"\"Generates a uniformly random weight between weight_min and weight_max.\"\"\"\n",
    "    return random.random() * (weight_max - weight_min) + weight_min\n",
    "\n",
    "def gen_hypothesis(weight_min, weight_max, num_weights):\n",
    "    return tuple([rand_weight(weight_min, weight_max) for i in range(num_weights)])\n",
    "        "
   ]
  },
  {
   "cell_type": "code",
   "execution_count": 5,
   "metadata": {},
   "outputs": [
    {
     "data": {
      "text/plain": [
       "7.706551715382767"
      ]
     },
     "execution_count": 5,
     "metadata": {},
     "output_type": "execute_result"
    }
   ],
   "source": [
    "rand_weight(0, 10)"
   ]
  },
  {
   "cell_type": "code",
   "execution_count": 6,
   "metadata": {},
   "outputs": [
    {
     "data": {
      "text/plain": [
       "(-4.814122290019785,\n",
       " 1.4739675581934826,\n",
       " -4.116735204818674,\n",
       " -3.690855764792645)"
      ]
     },
     "execution_count": 6,
     "metadata": {},
     "output_type": "execute_result"
    }
   ],
   "source": [
    "gen_hypothesis(-5, 5, 4)"
   ]
  },
  {
   "cell_type": "markdown",
   "metadata": {},
   "source": [
    "### Node functionality\n",
    "\n",
    "Next, let's define the functionality of each node. I know there's the concept of an [Activation function](https://en.wikipedia.org/wiki/Activation_function) in common neural network terminology. I suppose there are several ways a given node could function:\n",
    "* It could always output some discrete value (like 1 and 0, or -1 and 1).\n",
    "* It could output a continuous value bounded within some range like a probability (e.g. 0 to 1).\n",
    "* It could output an unbounded continuous value.\n",
    "\n",
    "For starters, I'm going to just go with what seems the simplest - it's just going to output an unbounded continuous value taking by multiplying the input by the weight. So the equation to determine the output of a given node will be: $node(x) = w0 * x$.\n",
    "\n",
    "On second thought, though... now that we have a hidden layer, those nodes will have more than one input. So how should that be handled? It could be handled a few ways:\n",
    "* We could make each input have its own weight.\n",
    "* We could use the same weight for all of the inputs.\n",
    "\n",
    "I'm again going to choose the dumbest easiest approach and say each node only has a single weight (even though, if I recall correctly, neural networks typically have different weights for each input - but we'll get there eventually). And if there is more than 1 sample, we'll just add them all together.\n",
    "\n",
    "## Attempt 1"
   ]
  },
  {
   "cell_type": "code",
   "execution_count": 7,
   "metadata": {},
   "outputs": [],
   "source": [
    "class Node:\n",
    "    def __init__(self, weight):\n",
    "        self.weight = weight\n",
    "    def run(self, node_input):\n",
    "        if type(node_input) != list:\n",
    "            node_input = [node_input]\n",
    "        return sum([self.weight * input_val for input_val in node_input])"
   ]
  },
  {
   "cell_type": "markdown",
   "metadata": {},
   "source": [
    "Let's test the node implementation..."
   ]
  },
  {
   "cell_type": "code",
   "execution_count": 8,
   "metadata": {},
   "outputs": [
    {
     "data": {
      "text/plain": [
       "[10, 50, 60]"
      ]
     },
     "execution_count": 8,
     "metadata": {},
     "output_type": "execute_result"
    }
   ],
   "source": [
    "n = Node(10)\n",
    "[n.run([1]), n.run([5]), n.run([1, 2, 3])]"
   ]
  },
  {
   "cell_type": "markdown",
   "metadata": {},
   "source": [
    "Looks good. Now let's try to write the network.\n",
    "\n",
    "Actually, just trying to write this, I immediately realize that we need to do some sort of convolution at the output node (to join its 2 inputs), so let's just add a 5th weight for that node."
   ]
  },
  {
   "cell_type": "code",
   "execution_count": 9,
   "metadata": {},
   "outputs": [],
   "source": [
    "def neural_net_1(weights, sample):\n",
    "    input_layer = [Node(weights[0]), Node(weights[1])]\n",
    "    hidden_layer = [Node(weights[3]), Node(weights[2])]\n",
    "    output_layer = Node(weights[4])\n",
    "    \n",
    "    input_layer_output = [input_layer[i].run(sample[i]) for i in range(len(input_layer))]\n",
    "    hidden_layer_output = [hidden_layer[i].run(input_layer_output) for i in range(len(hidden_layer))]\n",
    "    output_layer_output = output_layer.run(hidden_layer_output)\n",
    "    \n",
    "    return output_layer_output"
   ]
  },
  {
   "cell_type": "markdown",
   "metadata": {},
   "source": [
    "Let's test that..."
   ]
  },
  {
   "cell_type": "code",
   "execution_count": 10,
   "metadata": {},
   "outputs": [
    {
     "data": {
      "text/plain": [
       "0"
      ]
     },
     "execution_count": 10,
     "metadata": {},
     "output_type": "execute_result"
    }
   ],
   "source": [
    "neural_net_1([0, 0, 0, 0, 0], [1, 1, 1, 1, 1])"
   ]
  },
  {
   "cell_type": "code",
   "execution_count": 11,
   "metadata": {},
   "outputs": [
    {
     "data": {
      "text/plain": [
       "4"
      ]
     },
     "execution_count": 11,
     "metadata": {},
     "output_type": "execute_result"
    }
   ],
   "source": [
    "neural_net_1([1, 1, 1, 1, 1], [1, 1, 1, 1, 1])"
   ]
  },
  {
   "cell_type": "code",
   "execution_count": 12,
   "metadata": {},
   "outputs": [
    {
     "data": {
      "text/plain": [
       "8"
      ]
     },
     "execution_count": 12,
     "metadata": {},
     "output_type": "execute_result"
    }
   ],
   "source": [
    "# Should double the above\n",
    "neural_net_1([1, 1, 1, 1, 2], [1, 1, 1, 1, 1])"
   ]
  },
  {
   "cell_type": "code",
   "execution_count": 13,
   "metadata": {},
   "outputs": [
    {
     "data": {
      "text/plain": [
       "320"
      ]
     },
     "execution_count": 13,
     "metadata": {},
     "output_type": "execute_result"
    }
   ],
   "source": [
    "neural_net_1([2, 2, 2, 2, 2], [10, 10, 10, 10, 10])"
   ]
  },
  {
   "cell_type": "markdown",
   "metadata": {},
   "source": [
    "Seems to work as expected. Let's now write an algorithm to generate a bunch of weight hypotheses, and choose the best one."
   ]
  },
  {
   "cell_type": "code",
   "execution_count": 14,
   "metadata": {},
   "outputs": [],
   "source": [
    "class NeuralNetPredictor:\n",
    "    def __init__(self, num_hypotheses=1000, weight_min=-5, weight_max=5):\n",
    "        # generate hypotheses randomly\n",
    "        self.hypotheses = [gen_hypothesis(weight_min, weight_max, 5) for i in range(num_hypotheses)]\n",
    "        self.hypothesis_to_error = {h: 0 for h in self.hypotheses}\n",
    "        self.trained_weights = [0]*5\n",
    "    \n",
    "    def add_sample(self, sample, expected_value):\n",
    "        for h in self.hypotheses:\n",
    "            network_value = neural_net_1(h, sample)\n",
    "            # print('sample = {}, network_value = {}'.format(sample, network_value))\n",
    "            err = (network_value - expected_value)**2\n",
    "            self.hypothesis_to_error[h] += err\n",
    "    \n",
    "    def train(self, samples, labels):\n",
    "        for index in range(len(samples)):\n",
    "            self.add_sample(samples[index], labels[index])\n",
    "        \n",
    "        # Find hypothesis with lowest error\n",
    "        best_hypothesis = self.hypotheses[0]\n",
    "        lowest_err = 10000000\n",
    "        for hyp_index in range(len(self.hypotheses)):\n",
    "            hyp = self.hypotheses[hyp_index]\n",
    "            err = self.hypothesis_to_error[hyp]\n",
    "            if err < lowest_err:\n",
    "                lowest_err = err\n",
    "                best_hypothesis = hyp\n",
    "        \n",
    "        self.trained_weights = best_hypothesis\n",
    "        print('Best hypothesis weights: {}'.format(best_hypothesis))\n",
    " \n",
    "    def predict(self, sample):\n",
    "        return neural_net_1(self.trained_weights, sample)"
   ]
  },
  {
   "cell_type": "code",
   "execution_count": 15,
   "metadata": {},
   "outputs": [
    {
     "name": "stdout",
     "output_type": "stream",
     "text": [
      "Best hypothesis weights: (-4.835723019141343, -2.151626509195678, -2.5743759790844845, 2.6450847102501864, -1.304615234513605)\n",
      "Predictions: [0.0, 0.19848257068022424, 0.4460842678014316, 0.644566838481655]\n"
     ]
    }
   ],
   "source": [
    "# Note that I'm making 10x repetitions of the logic table.\n",
    "X = [[0, 0],\n",
    "     [0, 1],\n",
    "     [1, 0],\n",
    "     [1, 1]]*10\n",
    "y = [0, 1, 1, 0]*10\n",
    "\n",
    "xor_predictor = NeuralNetPredictor()\n",
    "xor_predictor.train(X, y)\n",
    "print('Predictions: {}'.format([xor_predictor.predict(x) for x in [(0, 0), (0, 1), (1, 0), (1, 1)]]))"
   ]
  },
  {
   "cell_type": "code",
   "execution_count": 16,
   "metadata": {},
   "outputs": [
    {
     "name": "stdout",
     "output_type": "stream",
     "text": [
      "Best hypothesis weights: (1.2691361815047593, 1.323306590493453, 4.080570405796291, -4.129541464772575, -4.301876441138667)\n",
      "Predictions: [0.0, 0.278777618248764, 0.2673656765975103, 0.5461432948462743]\n"
     ]
    }
   ],
   "source": [
    "xor_predictor = NeuralNetPredictor()\n",
    "xor_predictor.train(X, y)\n",
    "print('Predictions: {}'.format([xor_predictor.predict(x) for x in [(0, 0), (0, 1), (1, 0), (1, 1)]]))"
   ]
  },
  {
   "cell_type": "code",
   "execution_count": 17,
   "metadata": {},
   "outputs": [
    {
     "name": "stdout",
     "output_type": "stream",
     "text": [
      "Best hypothesis weights: (1.4182072209952157, 2.994979664378551, -1.7268446644494349, 3.033152215017221, 0.08999821095586835)\n",
      "Predictions: [0.0, 0.3521058100508829, 0.1667320176853846, 0.5188378277362674]\n"
     ]
    }
   ],
   "source": [
    "xor_predictor = NeuralNetPredictor()\n",
    "xor_predictor.train(X, y)\n",
    "print('Predictions: {}'.format([xor_predictor.predict(x) for x in [(0, 0), (0, 1), (1, 0), (1, 1)]]))"
   ]
  },
  {
   "cell_type": "markdown",
   "metadata": {},
   "source": [
    "### It doesn't work!\n",
    "\n",
    "Okay, so this is clearly not working. At this point, we're not using converting into classes based on the output value, but still, I'd expect the output values to be higher at (0, 1) and (1, 0). But instead, it seems like they pretty much correspond to the input values (1, 1) is almost always the highest, (0, 0) is always 0, and (0, 1) and (1, 0) are almost always about half of (1, 1). Interestingly, the 4 classes summed together is very near 1 - which is kind of surprising considering I'm not explicitly doing any probability normalizations.\n",
    "\n",
    "So why is this not working? My guess is that, since the \"expected value\" used to calculate the error with is always either 0 or 1, it's being almost entirely factored out by large network output values. So to fix this, we'd probably want the network values to be something in the 0 to 1 range (to match the classes).\n",
    "\n",
    "Well, we'll try that another day.\n",
    "\n",
    "## Normalize neuronal output (fix attempt #1)\n",
    "\n",
    "In the previous attempt, the output power of a neuron was proportional to the magnitude of it's input. But from doing a bit of research on [Neural action potentials](https://en.wikipedia.org/wiki/Action_potential), it seems like the output of a neuron should not be proportinal to the input:\n",
    "\n",
    "> \"The amplitude of an action potential is independent of the amount of current that produced it. In other words, larger currents do not create larger action potentials. Therefore, action potentials are said to be all-or-none signals, since either they occur fully or they do not occur at all.\" (https://en.wikipedia.org/wiki/Action_potential#%22All-or-none%22_principle)\n",
    "\n",
    "So, let's try that...\n",
    "\n",
    "The first question is, what is it outputing? The first thought I have is \"0 or 1\". Seems simple enough. But how can I determine if it should be 0 or 1? My first thought is the [sigmod function](https://en.wikipedia.org/wiki/Sigmoid_function), which converts from real numbers to a number between 0 and 1, f(x) = 0.5. This would basically then just convert from [-infinity, 0] -> 0 and [0, +infinity] -> 1, assuming 0.5 is considered the threshold for \"high\". That's not very useful unless we can either:\n",
    "* Shift the sigmoid function to the left or right\n",
    "* Change the threshold used to count as \"1\"/high.\n",
    "\n",
    "Both of these are possible, and these could both be used as parameters which can be learned. A few more thoughts:\n",
    "* If the output of a neuron is normalized to 1, the more input neurons there are, the more the sigmoid function would be shifted to the right. In other words, the shift to the right should be linearly proportional to the number of input neurons.\n",
    "* Another option... would be to move from the output of the neuron being \"0 or 1\" to \"-1 or 1\"... That would allow the sigmoid function to be centered on 0 without biasing against firing... maybe that's a good idea. That way, we could only learn the threshold, rather than having to worry about optimizing both the shift/bias and the thresold.\n",
    "\n",
    "Doing a quick search, it appears the sigmoid function is a good activation function - almost all activation functions on wikipedia have that shape: https://en.wikipedia.org/wiki/Activation_function. So that's a good sign.\n",
    "\n",
    "I'm now leaning toward the -1, 1 outputs for the neuron after looking at the activation potential of neurons, which appears to vary between negative and positive voltages:\n",
    "\n",
    "<img src=\"images/neuron_activation_potential.png\" style=\"width: 40%; height: 40%\" />\n",
    "\n",
    "## Sigmoid function\n",
    "\n",
    "Let's try playing with the sigmoid function a bit."
   ]
  },
  {
   "cell_type": "code",
   "execution_count": 18,
   "metadata": {},
   "outputs": [],
   "source": [
    "import math\n",
    "import numpy as np\n",
    "\n",
    "def sigmoid(x):\n",
    "    return 1 / (1 + math.exp(-x))"
   ]
  },
  {
   "cell_type": "code",
   "execution_count": 19,
   "metadata": {},
   "outputs": [
    {
     "data": {
      "text/plain": [
       "0.5"
      ]
     },
     "execution_count": 19,
     "metadata": {},
     "output_type": "execute_result"
    }
   ],
   "source": [
    "sigmoid(0)"
   ]
  },
  {
   "cell_type": "code",
   "execution_count": 26,
   "metadata": {},
   "outputs": [
    {
     "data": {
      "image/png": "[encoded data removed]",
      "text/plain": [
       "<Figure size 864x432 with 1 Axes>"
      ]
     },
     "metadata": {},
     "output_type": "display_data"
    }
   ],
   "source": [
    "x = np.linspace(-10, 10, 1000)\n",
    "y = [sigmoid(i) for i in x]\n",
    "setup_graph(title='sigmoid', x_label='x', y_label='sigmoid(x) = 1/(1+e^-x)', fig_size=(12,6))\n",
    "plt.grid(True)\n",
    "plt.plot(x, y)\n",
    "plt.show()"
   ]
  },
  {
   "cell_type": "markdown",
   "metadata": {},
   "source": [
    "Just looking at this, it appears that shifting left and right would be functionally equivalent to lowering/raising the \"activation threhsold\". Another thing that could be useful, potentially, is to spread out the graph horizontally... but let's not worry about that for now.\n",
    "\n",
    "So, we now have an activation function for each \"neuron\". So what knobs do we now have which can be learned?\n",
    "* Activation threshold - some value betweeen 0 and 1. This will be applied to the output of the sigmoid function, which itself has as inputs the summation of the values of all the input neurons, each of which will either be -1 or 1.\n",
    "* The weights applied to each input neuron.\n",
    "\n",
    "But let's see... do we really need the weights? Can we just tweak the activation threshold / bias? If we did this, then we would still use linear convolution - it would just be a linear convolution where every coefficient is 1 and there is no bias.\n",
    "* Side question: how does nature tweak activation threshold? Or maybe it has some other way of \"learning\"?\n",
    "\n",
    "Let's try to implement this idea - **each neuron has an activation threshold / bias, and those are the values that are learned.**\n",
    "\n",
    "First, let's see if we can tweak the activation threshold/bias of the sigmoid. We should be able to move it up/down by doing f(x) -> f(x - bias)..."
   ]
  },
  {
   "cell_type": "code",
   "execution_count": 30,
   "metadata": {},
   "outputs": [
    {
     "data": {
      "image/png": "[encoded data removed]",
      "text/plain": [
       "<Figure size 864x432 with 1 Axes>"
      ]
     },
     "metadata": {},
     "output_type": "display_data"
    }
   ],
   "source": [
    "def show_sigmoid(bias):\n",
    "    x = np.linspace(-10, 10, 1000)\n",
    "    y = [sigmoid(i - bias) for i in x]\n",
    "\n",
    "    setup_graph(title='sigmoid', x_label='x', y_label='sigmoid(x) = 1/(1+e^-x)', fig_size=(12,6))\n",
    "    plt.grid(True)\n",
    "    plt.plot(x, y)\n",
    "    plt.show()\n",
    "\n",
    "show_sigmoid(5)"
   ]
  },
  {
   "cell_type": "code",
   "execution_count": 31,
   "metadata": {},
   "outputs": [
    {
     "data": {
      "image/png": "[encoded data removed]",
      "text/plain": [
       "<Figure size 864x432 with 1 Axes>"
      ]
     },
     "metadata": {},
     "output_type": "display_data"
    }
   ],
   "source": [
    "show_sigmoid(-3)"
   ]
  },
  {
   "cell_type": "markdown",
   "metadata": {},
   "source": [
    "Something that just occurred to me is that, if the output of our neuron is all or nothing, the sigmoid/bias is kind of the same as an if statement like `if input > bias: 1; else: -1`. So actually, to simplify even further, let's try to just use an if statement and tweak the \"activation_threshold\"."
   ]
  },
  {
   "cell_type": "code",
   "execution_count": 34,
   "metadata": {},
   "outputs": [],
   "source": [
    "class Neuron:\n",
    "    def __init__(self, activation_threshold):\n",
    "        self.activation_threshold = activation_threshold\n",
    "        \n",
    "    def run(self, node_input):\n",
    "        if type(node_input) != list:\n",
    "            node_input = [node_input]\n",
    "        input_sum = sum(node_input)\n",
    "        if input_sum >= self.activation_threshold:\n",
    "            return 1\n",
    "        else:\n",
    "            return -1"
   ]
  },
  {
   "cell_type": "code",
   "execution_count": 38,
   "metadata": {},
   "outputs": [
    {
     "data": {
      "text/plain": [
       "1"
      ]
     },
     "execution_count": 38,
     "metadata": {},
     "output_type": "execute_result"
    }
   ],
   "source": [
    "Neuron(0).run([2])"
   ]
  },
  {
   "cell_type": "code",
   "execution_count": 37,
   "metadata": {},
   "outputs": [
    {
     "data": {
      "text/plain": [
       "-1"
      ]
     },
     "execution_count": 37,
     "metadata": {},
     "output_type": "execute_result"
    }
   ],
   "source": [
    "Neuron(0).run([-10])"
   ]
  },
  {
   "cell_type": "code",
   "execution_count": 39,
   "metadata": {},
   "outputs": [
    {
     "data": {
      "text/plain": [
       "-1"
      ]
     },
     "execution_count": 39,
     "metadata": {},
     "output_type": "execute_result"
    }
   ],
   "source": [
    "Neuron(5).run([2, 2])"
   ]
  },
  {
   "cell_type": "code",
   "execution_count": 40,
   "metadata": {},
   "outputs": [
    {
     "data": {
      "text/plain": [
       "1"
      ]
     },
     "execution_count": 40,
     "metadata": {},
     "output_type": "execute_result"
    }
   ],
   "source": [
    "Neuron(5).run([2, 3])"
   ]
  },
  {
   "cell_type": "markdown",
   "metadata": {},
   "source": [
    "Cool - hard to get any simpler than this. Let's go back and try to implement that same neural network to predict xor...\n",
    "\n",
    "## Attempt 2\n",
    "\n",
    "Here's the network again:\n",
    "\n",
    "<img src=\"images/xor_network3.png\"  style=\"width: 50%; height: 50%;\" />\n",
    "(note: weights should be w0, w1, w2, and w3)"
   ]
  },
  {
   "cell_type": "code",
   "execution_count": 43,
   "metadata": {},
   "outputs": [],
   "source": [
    "def neural_net_2(thresholds, sample):\n",
    "    input_layer = [Neuron(thresholds[0]), Neuron(thresholds[1])]\n",
    "    hidden_layer = [Neuron(thresholds[3]), Neuron(thresholds[2])]\n",
    "    output_layer = Neuron(thresholds[4])\n",
    "    \n",
    "    input_layer_output = [input_layer[i].run(sample[i]) for i in range(len(input_layer))]\n",
    "    hidden_layer_output = [hidden_layer[i].run(input_layer_output) for i in range(len(hidden_layer))]\n",
    "    output_layer_output = output_layer.run(hidden_layer_output)\n",
    "    \n",
    "    return output_layer_output"
   ]
  },
  {
   "cell_type": "markdown",
   "metadata": {},
   "source": [
    "Except these are not really weights, but activation thresholds now. So let's see, if the last activation `theresholds[4]` is really high, the output should always be -1. Let's use this as a rough smoke test:"
   ]
  },
  {
   "cell_type": "code",
   "execution_count": 44,
   "metadata": {},
   "outputs": [
    {
     "data": {
      "text/plain": [
       "-1"
      ]
     },
     "execution_count": 44,
     "metadata": {},
     "output_type": "execute_result"
    }
   ],
   "source": [
    "neural_net_2([0, 0, 0, 0, 100], [1, 1])"
   ]
  },
  {
   "cell_type": "markdown",
   "metadata": {},
   "source": [
    "And if it's really low, the output should typically be high:"
   ]
  },
  {
   "cell_type": "code",
   "execution_count": 45,
   "metadata": {},
   "outputs": [
    {
     "data": {
      "text/plain": [
       "1"
      ]
     },
     "execution_count": 45,
     "metadata": {},
     "output_type": "execute_result"
    }
   ],
   "source": [
    "neural_net_2([0, 0, 0, 0, -100], [1, 1])"
   ]
  },
  {
   "cell_type": "markdown",
   "metadata": {},
   "source": [
    "Good enough for me. Let's try to write a trainer for this.\n",
    "\n",
    "Again (for anyone reading this), I understand this is a HORRIBLE training algorithm - this is really just a test of the neurons, rather than the training algorithm itself. Randomly generating solutions is about as unsophisticated of a training algorithm possible."
   ]
  },
  {
   "cell_type": "code",
   "execution_count": 54,
   "metadata": {},
   "outputs": [],
   "source": [
    "class NeuralNetTrainer2:\n",
    "    def __init__(self, neural_net_func, num_hypotheses=1000, threshold_min=-5, threshold_max=5):\n",
    "        # generate hypotheses randomly\n",
    "        self.neural_net_func = neural_net_func\n",
    "        self.hypotheses = [gen_hypothesis(threshold_min, threshold_max, 5) for i in range(num_hypotheses)]\n",
    "        self.hypothesis_to_error = {h: 0 for h in self.hypotheses}\n",
    "        \n",
    "        # Trained weights (start at 0) - almost certainly bad until train()'ed\n",
    "        self.trained_thresholds = [0]*5\n",
    "    \n",
    "    def add_sample(self, sample, expected_value):\n",
    "        for h in self.hypotheses:\n",
    "            network_value = self.neural_net_func(h, sample)\n",
    "            # print('sample = {}, network_value = {}'.format(sample, network_value))\n",
    "            err = (network_value - expected_value)**2\n",
    "            self.hypothesis_to_error[h] += err\n",
    "    \n",
    "    def train(self, samples, labels):\n",
    "        for index in range(len(samples)):\n",
    "            self.add_sample(samples[index], labels[index])\n",
    "        \n",
    "        # Find hypothesis with lowest error\n",
    "        best_hypothesis = self.hypotheses[0]\n",
    "        lowest_err = 10000000\n",
    "        for hyp_index in range(len(self.hypotheses)):\n",
    "            hyp = self.hypotheses[hyp_index]\n",
    "            err = self.hypothesis_to_error[hyp]\n",
    "            if err < lowest_err:\n",
    "                lowest_err = err\n",
    "                best_hypothesis = hyp\n",
    "        \n",
    "        self.trained_thresholds = best_hypothesis\n",
    "        print('Best hypothesis weights: {}'.format(best_hypothesis))\n",
    " \n",
    "    def predict(self, sample):\n",
    "        return self.neural_net_func(self.trained_thresholds, sample)"
   ]
  },
  {
   "cell_type": "code",
   "execution_count": 48,
   "metadata": {},
   "outputs": [
    {
     "name": "stdout",
     "output_type": "stream",
     "text": [
      "Best hypothesis weights: (2.628474400738364, 1.6115061304711347, -3.376169418044711, 0.6379000877486787, -2.477611910124832)\n",
      "Predictions: [1, 1, 1, 1]\n"
     ]
    }
   ],
   "source": [
    "# Note that I'm making 10x repetitions of the logic table.\n",
    "X = [[0, 0],\n",
    "     [0, 1],\n",
    "     [1, 0],\n",
    "     [1, 1]]*10\n",
    "y = [0, 1, 1, 0]*10\n",
    "\n",
    "xor_predictor = NeuralNetTrainer2(neural_net_func=neural_net_2)\n",
    "xor_predictor.train(X, y)\n",
    "print('Predictions: {}'.format([xor_predictor.predict(x) for x in [(0, 0), (0, 1), (1, 0), (1, 1)]]))"
   ]
  },
  {
   "cell_type": "code",
   "execution_count": 49,
   "metadata": {},
   "outputs": [
    {
     "name": "stdout",
     "output_type": "stream",
     "text": [
      "Best hypothesis weights: (-3.2496744299729166, 3.7513463957571833, -3.3266980137764266, -3.732550991505741, -1.33243859281965)\n",
      "Predictions: [1, 1, 1, 1]\n"
     ]
    }
   ],
   "source": [
    "xor_predictor = NeuralNetTrainer2(neural_net_func=neural_net_2)\n",
    "xor_predictor.train(X, y)\n",
    "print('Predictions: {}'.format([xor_predictor.predict(x) for x in [(0, 0), (0, 1), (1, 0), (1, 1)]]))"
   ]
  },
  {
   "cell_type": "code",
   "execution_count": 50,
   "metadata": {},
   "outputs": [
    {
     "name": "stdout",
     "output_type": "stream",
     "text": [
      "Best hypothesis weights: (-3.5403862816578924, -1.1822749503866978, 4.640251643184293, 0.1592391231822976, -3.072080465005642)\n",
      "Predictions: [1, 1, 1, 1]\n"
     ]
    }
   ],
   "source": [
    "xor_predictor = NeuralNetTrainer2(neural_net_func=neural_net_2)\n",
    "xor_predictor.train(X, y)\n",
    "print('Predictions: {}'.format([xor_predictor.predict(x) for x in [(0, 0), (0, 1), (1, 0), (1, 1)]]))"
   ]
  },
  {
   "cell_type": "code",
   "execution_count": 55,
   "metadata": {},
   "outputs": [
    {
     "name": "stdout",
     "output_type": "stream",
     "text": [
      "Best hypothesis weights: (3.1295257393348646, -0.37632723552326475, -4.796511229256844, -2.40702164572675, 0.01356449634245216)\n",
      "Predictions: [1, 1, 1, 1]\n"
     ]
    }
   ],
   "source": [
    "xor_predictor = NeuralNetTrainer2(neural_net_func=neural_net_2)\n",
    "xor_predictor.train(X, y)\n",
    "print('Predictions: {}'.format([xor_predictor.predict(x) for x in [(0, 0), (0, 1), (1, 0), (1, 1)]]))"
   ]
  },
  {
   "cell_type": "markdown",
   "metadata": {},
   "source": [
    "**Fail.** This is worse than before, since it seems to simply optimize for all 1 outputs, and the weights seem random. Why is this?\n",
    "\n",
    "What if the error function is not very good because we are squaring the error, but the outputs are only either -1 and 1, so squaring 1 yields 1.... What if we make the outputs larger, like -2 and 2?"
   ]
  },
  {
   "cell_type": "code",
   "execution_count": 56,
   "metadata": {},
   "outputs": [],
   "source": [
    "class Neuron:\n",
    "    def __init__(self, activation_threshold):\n",
    "        self.activation_threshold = activation_threshold\n",
    "        \n",
    "    def run(self, node_input):\n",
    "        if type(node_input) != list:\n",
    "            node_input = [node_input]\n",
    "        input_sum = sum(node_input)\n",
    "        if input_sum >= self.activation_threshold:\n",
    "            return 2\n",
    "        else:\n",
    "            return -2"
   ]
  },
  {
   "cell_type": "code",
   "execution_count": 57,
   "metadata": {},
   "outputs": [
    {
     "name": "stdout",
     "output_type": "stream",
     "text": [
      "Best hypothesis weights: (-4.511982182951603, -2.899993434942789, 0.7201391932610992, -2.085998381590317, 3.6520963844805543)\n",
      "Predictions: [2, 2, 2, 2]\n"
     ]
    }
   ],
   "source": [
    "xor_predictor = NeuralNetTrainer2(neural_net_func=neural_net_2)\n",
    "xor_predictor.train(X, y)\n",
    "print('Predictions: {}'.format([xor_predictor.predict(x) for x in [(0, 0), (0, 1), (1, 0), (1, 1)]]))"
   ]
  },
  {
   "cell_type": "code",
   "execution_count": 58,
   "metadata": {},
   "outputs": [
    {
     "name": "stdout",
     "output_type": "stream",
     "text": [
      "Best hypothesis weights: (1.986396944139858, -3.6853876056797654, -1.3335861094167711, -1.9123963309692336, -3.7480456787143765)\n",
      "Predictions: [2, 2, 2, 2]\n"
     ]
    }
   ],
   "source": [
    "xor_predictor = NeuralNetTrainer2(neural_net_func=neural_net_2)\n",
    "xor_predictor.train(X, y)\n",
    "print('Predictions: {}'.format([xor_predictor.predict(x) for x in [(0, 0), (0, 1), (1, 0), (1, 1)]]))"
   ]
  },
  {
   "cell_type": "markdown",
   "metadata": {},
   "source": [
    "Nope, that doesn't work..."
   ]
  },
  {
   "cell_type": "code",
   "execution_count": 59,
   "metadata": {},
   "outputs": [
    {
     "name": "stdout",
     "output_type": "stream",
     "text": [
      "Best hypothesis weights: (-6.808625433333447, 9.289828019609999, 5.139754493308875, -1.0013509162198169, -0.005776643552195537)\n",
      "Predictions: [2, 2, 2, 2]\n"
     ]
    }
   ],
   "source": [
    "xor_predictor = NeuralNetTrainer2(neural_net_func=neural_net_2, threshold_min=-10, threshold_max=10)\n",
    "xor_predictor.train(X, y)\n",
    "print('Predictions: {}'.format([xor_predictor.predict(x) for x in [(0, 0), (0, 1), (1, 0), (1, 1)]]))"
   ]
  },
  {
   "cell_type": "markdown",
   "metadata": {},
   "source": [
    "Ohhhh.... I know. It's because the labels are 0, but the output is -1 and 1, which are equidistant from 0. So maybe it will work if I use -1 in place of 0 in the labels."
   ]
  },
  {
   "cell_type": "code",
   "execution_count": 87,
   "metadata": {},
   "outputs": [],
   "source": [
    "class Neuron:\n",
    "    def __init__(self, activation_threshold):\n",
    "        self.activation_threshold = activation_threshold\n",
    "        \n",
    "    def run(self, node_input):\n",
    "        if type(node_input) != list:\n",
    "            node_input = [node_input]\n",
    "        input_sum = sum(node_input)\n",
    "        if input_sum >= self.activation_threshold:\n",
    "            return 1\n",
    "        else:\n",
    "            return -1"
   ]
  },
  {
   "cell_type": "code",
   "execution_count": 94,
   "metadata": {},
   "outputs": [
    {
     "name": "stdout",
     "output_type": "stream",
     "text": [
      "Best hypothesis weights: (0.45280500411716584, 0.08621623715362503, -3.4129747425502677, -0.8432143671732248, 1.1255942985130822)\n",
      "Predictions: [-1, 1, 1, 1]\n"
     ]
    }
   ],
   "source": [
    "# Note that I'm making 10x repetitions of the logic table.\n",
    "X = [[-1, -1],\n",
    "     [-1, 1],\n",
    "     [1, -1],\n",
    "     [1, 1]]*10\n",
    "y = [-1, 1, 1, -1]*10\n",
    "\n",
    "xor_predictor = NeuralNetTrainer2(neural_net_func=neural_net_2, num_hypotheses=10000)\n",
    "xor_predictor.train(X, y)\n",
    "print('Predictions: {}'.format([xor_predictor.predict(x) for x in [(-1, -1), (-1, 1), (1, -1), (1, 1)]]))"
   ]
  },
  {
   "cell_type": "markdown",
   "metadata": {},
   "source": [
    "Well, that isn't correct, but at least it seems to be converting to a prediction of `[-1, 1, 1, 1]`. But why? Is it possible there aren't enough neurons to learn xor? What if I try to learn \"or\" or \"and\"?\n",
    "\n",
    "### Attempt at learning \"or\""
   ]
  },
  {
   "cell_type": "code",
   "execution_count": 95,
   "metadata": {},
   "outputs": [
    {
     "name": "stdout",
     "output_type": "stream",
     "text": [
      "Best hypothesis weights: (-0.2722838143109021, -0.7997278386441176, -2.5337467766377255, -1.2030666543714617, 1.3147527484451)\n",
      "Predictions: [-1, 1, 1, 1]\n"
     ]
    }
   ],
   "source": [
    "# Note that I'm making 10x repetitions of the logic table.\n",
    "X = [[-1, -1],\n",
    "     [-1, 1],\n",
    "     [1, -1],\n",
    "     [1, 1]]*10\n",
    "y = [-1, 1, 1, 1]*10\n",
    "\n",
    "xor_predictor = NeuralNetTrainer2(neural_net_func=neural_net_2, num_hypotheses=10000)\n",
    "xor_predictor.train(X, y)\n",
    "print('Predictions: {}'.format([xor_predictor.predict(x) for x in [(-1, -1), (-1, 1), (1, -1), (1, 1)]]))"
   ]
  },
  {
   "cell_type": "markdown",
   "metadata": {},
   "source": [
    "Hey, that worked! What about \"and\"?\n",
    "\n",
    "### Attempt at learning \"and\""
   ]
  },
  {
   "cell_type": "code",
   "execution_count": 96,
   "metadata": {},
   "outputs": [
    {
     "name": "stdout",
     "output_type": "stream",
     "text": [
      "Best hypothesis weights: (0.32724388633882473, -0.17305249315130844, 1.6592034742259933, -3.533461005859518, 0.9445998582037527)\n",
      "Predictions: [-1, -1, -1, 1]\n"
     ]
    }
   ],
   "source": [
    "# Note that I'm making 10x repetitions of the logic table.\n",
    "X = [[-1, -1],\n",
    "     [-1, 1],\n",
    "     [1, -1],\n",
    "     [1, 1]]*10\n",
    "y = [-1, -1, -1, 1]*10\n",
    "\n",
    "xor_predictor = NeuralNetTrainer2(neural_net_func=neural_net_2, num_hypotheses=10000)\n",
    "xor_predictor.train(X, y)\n",
    "print('Predictions: {}'.format([xor_predictor.predict(x) for x in [(-1, -1), (-1, 1), (1, -1), (1, 1)]]))"
   ]
  },
  {
   "cell_type": "markdown",
   "metadata": {},
   "source": [
    "Sweet, that works too! So I think I don't have enough neurons to learn \"xor\". Let's see if I build a larger neural network. Let's try just adding one more neuron in the hidden layer...\n",
    "\n",
    "## Attempt 3"
   ]
  },
  {
   "cell_type": "code",
   "execution_count": 97,
   "metadata": {},
   "outputs": [],
   "source": [
    "def neural_net_3(thresholds, sample):\n",
    "    input_layer = [Neuron(thresholds[0]), Neuron(thresholds[1])]\n",
    "    hidden_layer = [Neuron(thresholds[2]), Neuron(thresholds[3]), Neuron(thresholds[4])]\n",
    "    output_layer = Neuron(thresholds[5])\n",
    "    \n",
    "    input_layer_output = [input_layer[i].run(sample[i]) for i in range(len(input_layer))]\n",
    "    hidden_layer_output = [hidden_layer[i].run(input_layer_output) for i in range(len(hidden_layer))]\n",
    "    output_layer_output = output_layer.run(hidden_layer_output)\n",
    "    \n",
    "    return output_layer_output"
   ]
  },
  {
   "cell_type": "code",
   "execution_count": 108,
   "metadata": {},
   "outputs": [],
   "source": [
    "# Obviously, I'll want abstract this code at some point\n",
    "\n",
    "class StocasticNeuralNetTrainer:\n",
    "    def __init__(self, neural_net_func, num_knobs, num_hypotheses=1000, threshold_min=-5, threshold_max=5):\n",
    "        self.neural_net_func = neural_net_func\n",
    "        \n",
    "        # generate hypotheses randomly\n",
    "        self.hypotheses = [gen_hypothesis(threshold_min, threshold_max, num_knobs) for i in range(num_hypotheses)]\n",
    "        self.hypothesis_to_error = {h: 0 for h in self.hypotheses}\n",
    "        \n",
    "        # Trained weights (start at 0) - almost certainly bad until train()'ed\n",
    "        self.trained_thresholds = [0]*num_knobs\n",
    "    \n",
    "    def add_sample(self, sample, expected_value):\n",
    "        for h in self.hypotheses:\n",
    "            network_value = self.neural_net_func(h, sample)\n",
    "            # print('sample = {}, network_value = {}'.format(sample, network_value))\n",
    "            err = (network_value - expected_value)**2\n",
    "            self.hypothesis_to_error[h] += err\n",
    "    \n",
    "    def train(self, samples, labels):\n",
    "        for index in range(len(samples)):\n",
    "            self.add_sample(samples[index], labels[index])\n",
    "        \n",
    "        # Find hypothesis with lowest error\n",
    "        best_hypothesis = self.hypotheses[0]\n",
    "        lowest_err = 10000000\n",
    "        for hyp_index in range(len(self.hypotheses)):\n",
    "            hyp = self.hypotheses[hyp_index]\n",
    "            err = self.hypothesis_to_error[hyp]\n",
    "            if err < lowest_err:\n",
    "                lowest_err = err\n",
    "                best_hypothesis = hyp\n",
    "        \n",
    "        self.trained_thresholds = best_hypothesis\n",
    "        print('Best hypothesis weights: {}'.format(best_hypothesis))\n",
    " \n",
    "    def predict(self, sample):\n",
    "        return self.neural_net_func(self.trained_thresholds, sample)"
   ]
  },
  {
   "cell_type": "code",
   "execution_count": 109,
   "metadata": {},
   "outputs": [
    {
     "name": "stdout",
     "output_type": "stream",
     "text": [
      "Best hypothesis weights: (-0.9375573492773412, 0.022234681214007068, -0.838957933413754, -4.1290886314422295, -1.9360330302674509, -0.4437439094198954)\n",
      "Predictions: [-1, 1, 1, 1]\n"
     ]
    }
   ],
   "source": [
    "# Note that I'm making 10x repetitions of the logic table.\n",
    "X = [[-1, -1],\n",
    "     [-1, 1],\n",
    "     [1, -1],\n",
    "     [1, 1]]*10\n",
    "y = [-1, 1, 1, -1]*10\n",
    "\n",
    "xor_predictor = StocasticNeuralNetTrainer(neural_net_func=neural_net_3, num_knobs=6, num_hypotheses=10000)\n",
    "xor_predictor.train(X, y)\n",
    "print('Predictions: {}'.format([xor_predictor.predict(x) for x in [(-1, -1), (-1, 1), (1, -1), (1, 1)]]))"
   ]
  },
  {
   "cell_type": "markdown",
   "metadata": {},
   "source": [
    "Nope, let's try two more neurons in the hidden layer..."
   ]
  },
  {
   "cell_type": "code",
   "execution_count": 112,
   "metadata": {},
   "outputs": [],
   "source": [
    "def neural_net_4(thresholds, sample):\n",
    "    input_layer = [Neuron(thresholds[0]), Neuron(thresholds[1])]\n",
    "    hidden_layer = [Neuron(thresholds[2]), Neuron(thresholds[3]),\n",
    "                    Neuron(thresholds[4]), Neuron(thresholds[5]), Neuron(thresholds[6])]\n",
    "    output_layer = Neuron(thresholds[7])\n",
    "    \n",
    "    input_layer_output = [input_layer[i].run(sample[i]) for i in range(len(input_layer))]\n",
    "    hidden_layer_output = [hidden_layer[i].run(input_layer_output) for i in range(len(hidden_layer))]\n",
    "    output_layer_output = output_layer.run(hidden_layer_output)\n",
    "    \n",
    "    return output_layer_output"
   ]
  },
  {
   "cell_type": "code",
   "execution_count": 113,
   "metadata": {},
   "outputs": [
    {
     "name": "stdout",
     "output_type": "stream",
     "text": [
      "Best hypothesis weights: (-0.11109716802769576, 0.516490214968556, -0.8042769067565558, 0.3641258617735712, 2.6256869204799003, 4.09896880704998, -0.7847015406797215, -2.8096838306238547)\n",
      "Predictions: [-1, 1, 1, 1]\n"
     ]
    }
   ],
   "source": [
    "# Note that I'm making 10x repetitions of the logic table.\n",
    "X = [[-1, -1],\n",
    "     [-1, 1],\n",
    "     [1, -1],\n",
    "     [1, 1]]*20\n",
    "y = [-1, 1, 1, -1]*20\n",
    "\n",
    "xor_predictor = StocasticNeuralNetTrainer(neural_net_func=neural_net_4, num_knobs=8, num_hypotheses=10000)\n",
    "xor_predictor.train(X, y)\n",
    "print('Predictions: {}'.format([xor_predictor.predict(x) for x in [(-1, -1), (-1, 1), (1, -1), (1, 1)]]))"
   ]
  },
  {
   "cell_type": "markdown",
   "metadata": {},
   "source": [
    "Still no good - it appears that this neural network is still unable to learn anything but linearly seperable distinctions. Somehow, adding more neurons in this single hidden layer is NOT adding any robustness. My guess is that adding all these neurons together is functionally equivalent to one weighted neuron.  What if I add another hidden layer?\n",
    "\n",
    "## Attempt 4"
   ]
  },
  {
   "cell_type": "code",
   "execution_count": 137,
   "metadata": {},
   "outputs": [],
   "source": [
    "def neural_net_5(thresholds, sample):\n",
    "    input_layer = [Neuron(thresholds[0]), Neuron(thresholds[1])]\n",
    "    hidden_layer = [Neuron(thresholds[2]), Neuron(thresholds[3]), Neuron(thresholds[4])]\n",
    "    hidden_layer2 = [Neuron(thresholds[5]), Neuron(thresholds[6]), Neuron(thresholds[7])]\n",
    "    output_layer = Neuron(thresholds[8])\n",
    "    \n",
    "    input_layer_output = [input_layer[i].run(sample[i]) for i in range(len(input_layer))]\n",
    "    hidden_layer_output = [hidden_layer[i].run(input_layer_output) for i in range(len(hidden_layer))]\n",
    "    hidden_layer_output2 = [hidden_layer2[i].run(hidden_layer_output) for i in range(len(hidden_layer2))]\n",
    "    output_layer_output = output_layer.run(hidden_layer_output2)\n",
    "    \n",
    "    return output_layer_output"
   ]
  },
  {
   "cell_type": "code",
   "execution_count": 139,
   "metadata": {},
   "outputs": [
    {
     "name": "stdout",
     "output_type": "stream",
     "text": [
      "Best hypothesis weights: (-0.17513285385608057, 0.7013863554966111, -1.883921911037747, -1.1442650414639957, 1.2597020311777927, -2.380533761310245, 2.4687002726034146, 1.0737061167811195, -2.046070414233988)\n",
      "Predictions: [-1, 1, 1, 1]\n"
     ]
    }
   ],
   "source": [
    "# Note that I'm making 10x repetitions of the logic table.\n",
    "X = [[-1, -1],\n",
    "     [-1, 1],\n",
    "     [1, -1],\n",
    "     [1, 1]]*10\n",
    "y = [-1, 1, 1, -1]*10\n",
    "\n",
    "xor_predictor = StocasticNeuralNetTrainer(neural_net_func=neural_net_5, num_knobs=9, num_hypotheses=10000)\n",
    "xor_predictor.train(X, y)\n",
    "print('Predictions: {}'.format([xor_predictor.predict(x) for x in [(-1, -1), (-1, 1), (1, -1), (1, 1)]]))"
   ]
  },
  {
   "cell_type": "markdown",
   "metadata": {},
   "source": [
    "Still not working. Here's a few possible ideas to fix it:\n",
    "* Add weights for each neuron input\n",
    "* Add multiple output neurons - one for each class.\n",
    "\n",
    "Let's try adding weights to each neuron input...\n",
    "\n",
    "## Attempt 5"
   ]
  },
  {
   "cell_type": "code",
   "execution_count": 140,
   "metadata": {},
   "outputs": [],
   "source": [
    "class Neuron:\n",
    "    def __init__(self, activation_threshold, input_weights):\n",
    "        self.activation_threshold = activation_threshold\n",
    "        self.input_weights = input_weights\n",
    "        \n",
    "    def run(self, node_input):\n",
    "        if type(node_input) != list:\n",
    "            node_input = [node_input]\n",
    "        input_sum = sum([node_input[i]*self.input_weights[i] for i in range(len(self.input_weights))])\n",
    "        if input_sum >= self.activation_threshold:\n",
    "            return 1\n",
    "        else:\n",
    "            return -1"
   ]
  },
  {
   "cell_type": "code",
   "execution_count": 141,
   "metadata": {},
   "outputs": [
    {
     "data": {
      "text/plain": [
       "1"
      ]
     },
     "execution_count": 141,
     "metadata": {},
     "output_type": "execute_result"
    }
   ],
   "source": [
    "Neuron(100, [50]).run(2)"
   ]
  },
  {
   "cell_type": "code",
   "execution_count": 142,
   "metadata": {},
   "outputs": [
    {
     "data": {
      "text/plain": [
       "-1"
      ]
     },
     "execution_count": 142,
     "metadata": {},
     "output_type": "execute_result"
    }
   ],
   "source": [
    "Neuron(101, [50]).run(2)"
   ]
  },
  {
   "cell_type": "code",
   "execution_count": 143,
   "metadata": {},
   "outputs": [
    {
     "data": {
      "text/plain": [
       "-1"
      ]
     },
     "execution_count": 143,
     "metadata": {},
     "output_type": "execute_result"
    }
   ],
   "source": [
    "Neuron(101, [50, 20, 30]).run([1, 1, 1])"
   ]
  },
  {
   "cell_type": "code",
   "execution_count": 144,
   "metadata": {},
   "outputs": [
    {
     "data": {
      "text/plain": [
       "1"
      ]
     },
     "execution_count": 144,
     "metadata": {},
     "output_type": "execute_result"
    }
   ],
   "source": [
    "Neuron(100, [50, 20, 30]).run([1, 1, 1])"
   ]
  },
  {
   "cell_type": "code",
   "execution_count": 155,
   "metadata": {},
   "outputs": [],
   "source": [
    "def neural_net_6(knobs, sample):\n",
    "    # For the input layer, weight inputs to 1, and keep activation at 0\n",
    "    # Note that this input_layer is functionally nil - it just passes through the sample values, so it\n",
    "    # could be eliminated. But to keep with the previous examples, let's keep it. Also, it works to just pass\n",
    "    # the values through since our input values need no conversion. It's possible that some input\n",
    "    # value would benefit from some sort of conversion (like multiplying by 10 or something).\n",
    "    input_layer = [Neuron(0, [1]), Neuron(0, [1])]\n",
    "    hidden_layer = [Neuron(knobs[0], [knobs[1], knobs[2]]),\n",
    "                    Neuron(knobs[3], [knobs[4], knobs[5]]),\n",
    "                    Neuron(knobs[6], [knobs[7], knobs[8]])]\n",
    "    output_layer = Neuron(knobs[9], [knobs[10], knobs[11], knobs[12]])\n",
    "    \n",
    "    input_layer_output = [input_layer[i].run(sample[i]) for i in range(len(input_layer))]\n",
    "    hidden_layer_output = [hidden_layer[i].run(input_layer_output) for i in range(len(hidden_layer))]\n",
    "    output_layer_output = output_layer.run(hidden_layer_output)\n",
    "    \n",
    "    return output_layer_output"
   ]
  },
  {
   "cell_type": "code",
   "execution_count": 150,
   "metadata": {},
   "outputs": [
    {
     "name": "stdout",
     "output_type": "stream",
     "text": [
      "Best hypothesis weights: (-3.3312315420723273, -0.6186899538079658, -2.6508818921540267, 2.493483508092309, -0.4926664023882301, -2.581662465372375, 4.409037962549409, 2.7846911252382416, 4.351451406463973, 3.9076180372499234, 0.7566588797370342, -3.4622432181823495, -0.40637788765934246)\n",
      "Predictions: [-1, 1, 1, -1]\n"
     ]
    }
   ],
   "source": [
    "X = [[-1, -1],\n",
    "     [-1, 1],\n",
    "     [1, -1],\n",
    "     [1, 1]]\n",
    "y = [-1, 1, 1, -1]\n",
    "\n",
    "xor_predictor = StocasticNeuralNetTrainer(neural_net_func=neural_net_6, num_knobs=13, num_hypotheses=10000)\n",
    "xor_predictor.train(X, y)\n",
    "print('Predictions: {}'.format([xor_predictor.predict(x) for x in [(-1, -1), (-1, 1), (1, -1), (1, 1)]]))"
   ]
  },
  {
   "cell_type": "markdown",
   "metadata": {},
   "source": [
    "### SUCCESS\n",
    "\n",
    "**Wow, that works!** Even with a single training set!\n",
    "\n",
    "So it appears that weighting neuron inputs is extremely important.  Let's verify that it also works for \"and\" and \"or\"..."
   ]
  },
  {
   "cell_type": "code",
   "execution_count": 151,
   "metadata": {},
   "outputs": [
    {
     "name": "stdout",
     "output_type": "stream",
     "text": [
      "Best hypothesis weights: (-4.529244947610081, 2.936969444290293, -1.2990161660039643, -1.1425525715508247, -1.1171099453546085, 2.637223421259989, -1.450576551862369, 2.099111039420592, -1.4684208032486898, -0.5733192672310663, -1.2018061387049062, 0.6553881171323823, 0.16330598417973619)\n",
      "Predictions: [-1, -1, -1, 1]\n"
     ]
    }
   ],
   "source": [
    "# AND\n",
    "X = [[-1, -1],\n",
    "     [-1, 1],\n",
    "     [1, -1],\n",
    "     [1, 1]]\n",
    "y = [-1, -1, -1, 1]\n",
    "\n",
    "and_predictor = StocasticNeuralNetTrainer(neural_net_func=neural_net_6, num_knobs=13, num_hypotheses=10000)\n",
    "and_predictor.train(X, y)\n",
    "print('Predictions: {}'.format([and_predictor.predict(x) for x in [(-1, -1), (-1, 1), (1, -1), (1, 1)]]))"
   ]
  },
  {
   "cell_type": "code",
   "execution_count": 152,
   "metadata": {},
   "outputs": [
    {
     "name": "stdout",
     "output_type": "stream",
     "text": [
      "Best hypothesis weights: (-3.1605694002727445, 3.3801485891287033, -1.6049544308097783, -3.5303776982494615, -3.075839726860643, -1.5574362967649593, -2.6872142597094806, 3.5848938828733186, 2.1433849729883754, -1.703647433794182, -0.2625786694309795, 0.4854661813110184, 3.0861353218611924)\n",
      "Predictions: [-1, 1, 1, 1]\n"
     ]
    }
   ],
   "source": [
    "# OR\n",
    "X = [[-1, -1],\n",
    "     [-1, 1],\n",
    "     [1, -1],\n",
    "     [1, 1]]\n",
    "y = [-1, 1, 1, 1]\n",
    "\n",
    "or_predictor = StocasticNeuralNetTrainer(neural_net_func=neural_net_6, num_knobs=13, num_hypotheses=10000)\n",
    "or_predictor.train(X, y)\n",
    "print('Predictions: {}'.format([or_predictor.predict(x) for x in [(-1, -1), (-1, 1), (1, -1), (1, 1)]]))"
   ]
  },
  {
   "cell_type": "code",
   "execution_count": 153,
   "metadata": {},
   "outputs": [
    {
     "name": "stdout",
     "output_type": "stream",
     "text": [
      "Best hypothesis weights: (-0.533528739179701, -0.7368093945337026, -1.8028438243444977, 4.250712610532435, 1.7505676222829827, 4.7405926648756065, 1.5256770444732783, -4.860280343429942, -4.473899186181715, -2.413998309817739, 0.720939834638723, -1.4772823865981177, 2.483843316813747)\n",
      "Predictions: [1, 1, 1, -1]\n"
     ]
    }
   ],
   "source": [
    "# NAND\n",
    "X = [[-1, -1],\n",
    "     [-1, 1],\n",
    "     [1, -1],\n",
    "     [1, 1]]\n",
    "y = [1, 1, 1, -1]\n",
    "\n",
    "nand_predictor = StocasticNeuralNetTrainer(neural_net_func=neural_net_6, num_knobs=13, num_hypotheses=10000)\n",
    "nand_predictor.train(X, y)\n",
    "print('Predictions: {}'.format([nand_predictor.predict(x) for x in [(-1, -1), (-1, 1), (1, -1), (1, 1)]]))"
   ]
  },
  {
   "cell_type": "markdown",
   "metadata": {},
   "source": [
    "## Conclusion\n",
    "\n",
    "So this works very well. Why are weighted neuron inputs so important? I think that without weights, each input neuron is equally important, which cuts flexibility.\n",
    "\n",
    "Next steps\n",
    "* How can we actually train the network (without just generating random hypotheses)?\n",
    "    - Up to this point, we're just generating random configurations of knobs and picking the best configuration. The next step is to write an algorithm to adjust the knobs.\n",
    "* How could we do multi-class classifiers? (probably with multiple output neurons)\n",
    "* How does this behave with probabilistic relationships between inputs and outputs? (in these boolean logic functions, there is 100% correlation between inputs and outputs)\n",
    "\n",
    "Questions\n",
    "* Does nature have the concept of weighted neuron inputs? If so, how is it implemented in nature?\n",
    "* Brains run on bayesian probability - how can I incorporate bayesian probability into my neural network model?\n",
    "* What is the role of neurotransmitters in reinforcing inputs?\n",
    "* Can we make the connections between various neurons self-wire (rather than hardcoding them)? Can the labels be just another input?"
   ]
  },
  {
   "cell_type": "code",
   "execution_count": null,
   "metadata": {},
   "outputs": [],
   "source": []
  }
 ],
 "metadata": {
  "kernelspec": {
   "display_name": "Python 3",
   "language": "python",
   "name": "python3"
  },
  "language_info": {
   "codemirror_mode": {
    "name": "ipython",
    "version": 3
   },
   "file_extension": ".py",
   "mimetype": "text/x-python",
   "name": "python",
   "nbconvert_exporter": "python",
   "pygments_lexer": "ipython3",
   "version": "3.6.5"
  }
 },
 "nbformat": 4,
 "nbformat_minor": 2
}
