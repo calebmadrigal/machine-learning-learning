{
 "cells": [
  {
   "cell_type": "code",
   "execution_count": 2,
   "metadata": {},
   "outputs": [],
   "source": [
    "# Imports and boilerplate to make graphs look better\n",
    "%matplotlib inline\n",
    "import matplotlib.pyplot as plt\n",
    "import numpy as np\n",
    "import scipy\n",
    "import wave\n",
    "from IPython.display import Audio\n",
    "\n",
    "def setup_graph(title='', x_label='', y_label='', fig_size=None):\n",
    "    fig = plt.figure()\n",
    "    if fig_size != None:\n",
    "        fig.set_size_inches(fig_size[0], fig_size[1])\n",
    "    ax = fig.add_subplot(111)\n",
    "    ax.set_title(title)\n",
    "    ax.set_xlabel(x_label)\n",
    "    ax.set_ylabel(y_label)"
   ]
  },
  {
   "cell_type": "markdown",
   "metadata": {},
   "source": [
    "# Reinventing neural networks 2\n",
    "\n",
    "In the previous notebook, we went through experiments that determined that the common neuron representation works pretty well for learning. That representation is characterized by:\n",
    "* Weighted inputs (which can be adjusted)\n",
    "* An activation threshold (which can be adjusted)\n",
    "* Outputs are \"all-or-nothing\" (in my case, I used `-1` or `1`).\n",
    "\n",
    "We tested them by generating random configurations of all the \"knobs\" at our disposal - for each neuron, the input weights and the activation threshold.\n",
    "\n",
    "Now, we want to adjust the knobs. So, how do we do that? The goal is to adjust the knobs so as to reduce error. We can do that layer by layer, which would be a step in the right direction. But the next question is, what is the \"right\" direction to step in to reduce error. I remember that the idea of gradient descent is to take the largest step in the direction that will most reduce error, but I don't remember intuitively how it works. Let's see if we can derive it though...\n",
    "\n",
    "A few thoughts:\n",
    "* A key lesson I realized from the previous notebook is that we don't want to step in the direction that minimizes the particular training sample at hand ONLY - or else, I would expect that we would hop around quite a bit. Can you learn from samples one-by-one serially? Or do you need to buffer them and consider several as a group?\n",
    "* Before, we were trying to minimize all the knobs simultaneously. If there are, say, 10 knobs, that is effectively trying to search through a 10-dimensional space (#curse-of-dimensionality). If we, instead, break the knobs up by the layer in the network, that would make the searching much less resource-intensive.\n",
    "* I wonder if an algorithm like MCMC could be used for searching in these N-dimensional spaces for optimizations?\n",
    "\n",
    "Let's start by taking another stab at how to represent and run neural networks..."
   ]
  },
  {
   "cell_type": "code",
   "execution_count": 12,
   "metadata": {},
   "outputs": [],
   "source": [
    "import random\n",
    "import pprint\n",
    "\n",
    "def gen_network_weights(neurons_by_layer, init_rand_min=-5, init_rand_max=5):\n",
    "    neural_network_weights = []\n",
    "    for layer_index, num_neurons in enumerate(neurons_by_layer):\n",
    "        if layer_index == 0:\n",
    "            weights = np.array([1] * num_neurons)\n",
    "            \n",
    "        else:\n",
    "            num_inputs = neurons_by_layer[layer_index - 1]\n",
    "            weights = np.array([[random.uniform(init_rand_min, init_rand_max) for i in range(num_inputs)]\n",
    "                                for i in range(num_neurons)])\n",
    "\n",
    "        neural_network_weights.append(weights)\n",
    "    return neural_network_weights"
   ]
  },
  {
   "cell_type": "code",
   "execution_count": 48,
   "metadata": {},
   "outputs": [
    {
     "name": "stdout",
     "output_type": "stream",
     "text": [
      "[array([1, 1]),\n",
      " array([[ 4.25283384,  4.81321245],\n",
      "       [-1.57576796,  0.19632047],\n",
      "       [ 0.63451474,  4.39674791]]),\n",
      " array([[1.52935544, 4.55203107, 3.04998261]])]\n"
     ]
    }
   ],
   "source": [
    "pprint.pprint(gen_network_weights([2, 3, 1]))"
   ]
  },
  {
   "cell_type": "code",
   "execution_count": 47,
   "metadata": {},
   "outputs": [
    {
     "name": "stdout",
     "output_type": "stream",
     "text": [
      "[array([1, 1]),\n",
      " array([[ 2.8655816 ,  4.51039354],\n",
      "       [ 4.10191434,  2.62328246],\n",
      "       [-2.95910548, -2.70072649]]),\n",
      " array([[ 3.74498396,  3.36186495, -4.44372308],\n",
      "       [-3.20063982,  1.00369556,  0.73228578],\n",
      "       [-1.61905121,  2.57913456,  4.26718248]]),\n",
      " array([[-2.6834967 , -1.99670531, -0.89801206],\n",
      "       [ 4.40292339, -3.64891597,  0.12621428]])]\n"
     ]
    }
   ],
   "source": [
    "pprint.pprint(gen_network_weights([2, 3, 3, 2]))"
   ]
  },
  {
   "cell_type": "code",
   "execution_count": 60,
   "metadata": {},
   "outputs": [],
   "source": [
    "def eval_neuron(layer_index, neuron_index, neuron_input_weights, input_values):\n",
    "    # Special case for input neurons - just return the input value (identity function)\n",
    "    if layer_index == 0:\n",
    "        return input_values[neuron_index]\n",
    "\n",
    "    # TODO: Stop re-creating these arrays\n",
    "    if np.sum(np.array(neuron_input_weights) * np.transpose(np.array(input_values))) >= 0:\n",
    "        return 1\n",
    "    else:\n",
    "        return -1\n",
    "\n",
    "def is_last_layer(layer_list, layer_index):\n",
    "    return len(layer_list)-1 == layer_index\n",
    "\n",
    "def run_network(layer_list, sample, sample_label):\n",
    "    layer_outputs = []\n",
    "    \n",
    "    for layer_index, layer in enumerate(layer_list):\n",
    "        # Special case for output neurons -  return sample label\n",
    "        if is_last_layer(layer_list, layer_index):\n",
    "            layer_output = sample_label\n",
    "        elif layer_index == 0:\n",
    "            layer_output = sample\n",
    "        else:\n",
    "            layer_output = []\n",
    "            for neuron_index in range(len(layer_list[layer_index])):\n",
    "                neuron_input_weight = layer_list[layer_index][neuron_index]\n",
    "                neuron_inputs = layer_list[layer_index - 1]\n",
    "                print('neuron_weights = {}, input_values = {}'.format(neuron_input_weight, neuron_inputs))\n",
    "                neuron_eval = eval_neuron(layer_index, neuron_index, neuron_input_weight, neuron_inputs)\n",
    "                layer_output.append(neuron_eval)\n",
    "\n",
    "        print('layer_output = {}'.format(layer_output))\n",
    "        layer_outputs.append(layer_output)\n",
    "        \n",
    "    return layer_outputs\n",
    "\n",
    "#class ResonanceLearner:"
   ]
  },
  {
   "cell_type": "code",
   "execution_count": 50,
   "metadata": {},
   "outputs": [
    {
     "name": "stdout",
     "output_type": "stream",
     "text": [
      "layer_output = [1, 1]\n",
      "layer_output = [1, 1, -1]\n",
      "layer_output = [-1]\n"
     ]
    },
    {
     "data": {
      "text/plain": [
       "[[1, 1], [1, 1, -1], [-1]]"
      ]
     },
     "execution_count": 50,
     "metadata": {},
     "output_type": "execute_result"
    }
   ],
   "source": [
    "test_net = gen_network_weights([2, 3, 1])\n",
    "run_network(test_net, [1, 1], [-1])"
   ]
  },
  {
   "cell_type": "code",
   "execution_count": 51,
   "metadata": {},
   "outputs": [
    {
     "name": "stdout",
     "output_type": "stream",
     "text": [
      "layer_output = [5, 10]\n",
      "layer_output = [1, -1, 1]\n",
      "layer_output = [1]\n"
     ]
    },
    {
     "data": {
      "text/plain": [
       "[[5, 10], [1, -1, 1], [1]]"
      ]
     },
     "execution_count": 51,
     "metadata": {},
     "output_type": "execute_result"
    }
   ],
   "source": [
    "test_net = gen_network_weights([2, 3, 1])\n",
    "run_network(test_net, [5, 10], [1])"
   ]
  },
  {
   "cell_type": "code",
   "execution_count": 61,
   "metadata": {},
   "outputs": [
    {
     "name": "stdout",
     "output_type": "stream",
     "text": [
      "layer_output = [5, 10]\n",
      "neuron_weights = [-3.48080034  0.90779049], input_values = [1 1]\n",
      "neuron_weights = [ 1.8247945  -2.99530682], input_values = [1 1]\n",
      "neuron_weights = [ 4.72789622 -3.21629782], input_values = [1 1]\n",
      "layer_output = [-1, -1, 1]\n",
      "neuron_weights = [ 1.19385925 -1.68589731  1.10165764], input_values = [[-3.48080034  0.90779049]\n",
      " [ 1.8247945  -2.99530682]\n",
      " [ 4.72789622 -3.21629782]]\n",
      "neuron_weights = [ 3.17181281 -2.76863013 -2.73399561], input_values = [[-3.48080034  0.90779049]\n",
      " [ 1.8247945  -2.99530682]\n",
      " [ 4.72789622 -3.21629782]]\n",
      "neuron_weights = [-1.6667855  -4.73223135 -0.41407189], input_values = [[-3.48080034  0.90779049]\n",
      " [ 1.8247945  -2.99530682]\n",
      " [ 4.72789622 -3.21629782]]\n",
      "layer_output = [1, -1, 1]\n",
      "layer_output = [1, 2]\n"
     ]
    },
    {
     "data": {
      "text/plain": [
       "[[5, 10], [-1, -1, 1], [1, -1, 1], [1, 2]]"
      ]
     },
     "execution_count": 61,
     "metadata": {},
     "output_type": "execute_result"
    }
   ],
   "source": [
    "test_net = gen_network_weights([2, 3, 3, 2])\n",
    "run_network(test_net, [5, 10], [1, 2])"
   ]
  },
  {
   "cell_type": "markdown",
   "metadata": {},
   "source": []
  }
 ],
 "metadata": {
  "kernelspec": {
   "display_name": "Python 3",
   "language": "python",
   "name": "python3"
  },
  "language_info": {
   "codemirror_mode": {
    "name": "ipython",
    "version": 3
   },
   "file_extension": ".py",
   "mimetype": "text/x-python",
   "name": "python",
   "nbconvert_exporter": "python",
   "pygments_lexer": "ipython3",
   "version": "3.6.5"
  }
 },
 "nbformat": 4,
 "nbformat_minor": 2
}
